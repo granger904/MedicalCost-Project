{
 "cells": [
  {
   "cell_type": "markdown",
   "metadata": {},
   "source": [
    "# U.S. Medical Insurance Costs"
   ]
  },
  {
   "cell_type": "markdown",
   "metadata": {},
   "source": [
    "Goals:\n",
    "- (Done) Find out the average age of the patients in the dataset.\n",
    "- (Done) Analyze where a majority of the individuals are from.\n",
    "- (Done) Look at the different costs between smokers vs. non-smokers.\n",
    "- (Done) Figure out what the average age is for someone who has at least one child in this dataset.\n"
   ]
  },
  {
   "cell_type": "code",
   "execution_count": 20,
   "metadata": {},
   "outputs": [
    {
     "name": "stdout",
     "output_type": "stream",
     "text": [
      "Average age for insured parents is: $ 39.8\n",
      "Average cost for a smoker is: $ 32050.2\n",
      "Average cost for a non-smoker is: $ 8434.3\n",
      "Average age of insured is: $ 39.2\n",
      "The region with the most insured is the southeast region.\n"
     ]
    }
   ],
   "source": [
    "import csv\n",
    "\n",
    "age_list = []\n",
    "region_list = []\n",
    "smoker_cost = []\n",
    "nonsmoker_cost = []\n",
    "age_parents = []\n",
    "\n",
    "with open('insurance.csv') as insurance_data:\n",
    "    insurance_data_reader = csv.DictReader(insurance_data)\n",
    "    \n",
    "    for row in insurance_data_reader:\n",
    "        age_list.append(row['age'])\n",
    "        region_list.append(row['region'])\n",
    "        if row['smoker'] == \"yes\":\n",
    "            smoker_cost.append(row['charges'])\n",
    "        else:\n",
    "            nonsmoker_cost.append(row['charges'])\n",
    "        if int(row['children']) > 0:\n",
    "            age_parents.append(row['age'])\n",
    "\n",
    "def avg_funct(funct_list):\n",
    "    avg_var_total = 0\n",
    "    for list_item in funct_list:\n",
    "        avg_var_total += float(list_item)\n",
    "    return round(avg_var_total/len(funct_list),1)\n",
    "\n",
    "print(\"Average age for insured parents is: $\",avg_funct(age_parents))\n",
    "\n",
    "print(\"Average cost for a smoker is: $\", avg_funct(smoker_cost))\n",
    "\n",
    "print(\"Average cost for a non-smoker is: $\", avg_funct(nonsmoker_cost))\n",
    "\n",
    "print(\"Average age of insured is: $\", avg_funct(age_list))\n",
    "\n",
    "\n",
    "\n",
    "region_count_dict = {}\n",
    "for region in region_list:\n",
    "    if region in region_count_dict:\n",
    "        region_count_dict[region] += 1\n",
    "    else:\n",
    "        region_count_dict[region] = 1\n",
    "\n",
    "max_value = 0\n",
    "\n",
    "for region in region_count_dict:\n",
    "    if region_count_dict.get(region) > max_value:\n",
    "        max_value = region_count_dict.get(region)\n",
    "        max_region = region\n",
    "\n",
    "print(\"The region with the most insured is the\", max_region, \"region.\")"
   ]
  },
  {
   "cell_type": "markdown",
   "metadata": {},
   "source": [
    "Feedback requested:\n",
    "1. Is there a more efficient or better way to work with .csv data?\n",
    "2. Would using Objects be a better way to code this out?\n",
    "3. How would you have gone about addressing the goals for the project?"
   ]
  }
 ],
 "metadata": {
  "kernelspec": {
   "display_name": "Python 3",
   "language": "python",
   "name": "python3"
  },
  "language_info": {
   "codemirror_mode": {
    "name": "ipython",
    "version": 3
   },
   "file_extension": ".py",
   "mimetype": "text/x-python",
   "name": "python",
   "nbconvert_exporter": "python",
   "pygments_lexer": "ipython3",
   "version": "3.8.8"
  }
 },
 "nbformat": 4,
 "nbformat_minor": 4
}
